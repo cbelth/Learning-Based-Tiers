{
 "cells": [
  {
   "cell_type": "markdown",
   "id": "5d86d369",
   "metadata": {},
   "source": [
    "## Usage Examples"
   ]
  },
  {
   "cell_type": "markdown",
   "id": "37df9588",
   "metadata": {},
   "source": [
    "When running from outside the ``src/`` directory, add the ```src/``` directory to the current path, as shown below, before importing the code."
   ]
  },
  {
   "cell_type": "code",
   "execution_count": null,
   "id": "f80ff95c",
   "metadata": {},
   "outputs": [],
   "source": [
    "import sys\n",
    "sys.path.append('../src/')"
   ]
  },
  {
   "cell_type": "markdown",
   "id": "e1426489",
   "metadata": {},
   "source": [
    "### Loading Data\n",
    "\n",
    "Below is an example of how to load the Turkish CHILDES corpus. First, import the ``load`` function from ``utils.py``"
   ]
  },
  {
   "cell_type": "code",
   "execution_count": null,
   "id": "6a8e6f99",
   "metadata": {},
   "outputs": [],
   "source": [
    "from utils import load"
   ]
  },
  {
   "cell_type": "code",
   "execution_count": null,
   "id": "b5cddcab",
   "metadata": {},
   "outputs": [],
   "source": [
    "pairs, freqs = load('../data/latin/latin.txt', skip_header=True)"
   ]
  },
  {
   "cell_type": "markdown",
   "id": "b5990f8f",
   "metadata": {},
   "source": [
    "### Running D2L"
   ]
  },
  {
   "cell_type": "code",
   "execution_count": null,
   "id": "ba8f03bc",
   "metadata": {},
   "outputs": [],
   "source": [
    "from d2l import D2L\n",
    "d2l = D2L(ipa_file='../data/latin/ipa.txt')\n",
    "d2l.train(pairs)\n",
    "print(d2l)"
   ]
  },
  {
   "cell_type": "code",
   "execution_count": null,
   "id": "ddbf730c",
   "metadata": {},
   "outputs": [],
   "source": []
  }
 ],
 "metadata": {
  "kernelspec": {
   "display_name": "Python 3 (ipykernel)",
   "language": "python",
   "name": "python3"
  },
  "language_info": {
   "codemirror_mode": {
    "name": "ipython",
    "version": 3
   },
   "file_extension": ".py",
   "mimetype": "text/x-python",
   "name": "python",
   "nbconvert_exporter": "python",
   "pygments_lexer": "ipython3",
   "version": "3.11.3"
  }
 },
 "nbformat": 4,
 "nbformat_minor": 5
}
